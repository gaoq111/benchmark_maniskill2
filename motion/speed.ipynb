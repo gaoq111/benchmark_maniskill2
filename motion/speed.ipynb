{
 "cells": [
  {
   "cell_type": "code",
   "execution_count": 1,
   "metadata": {},
   "outputs": [],
   "source": [
    "%load_ext autoreload\n",
    "%autoreload 2\n",
    "import matplotlib.pyplot as plt\n",
    "import numpy as np\n",
    "import gymnasium as gym\n",
    "import sys\n",
    "sys.path.append('..')\n",
    "from PIL import Image\n",
    "from tqdm import trange\n",
    "import gymnasium as gym\n",
    "import numpy as np\n",
    "from sapien.core import Pose\n",
    "import matplotlib.pyplot as plt\n",
    "import os\n",
    "import warnings\n",
    "import shutil\n",
    "import random\n",
    "from plot_utils import *\n",
    "from itertools import product, combinations, permutations\n",
    "\n",
    "from utils import *\n",
    "from agent_env_utils import *\n",
    "from config import color_maps, background_quadrants\n",
    "from scene_helpers import get_position_range, create_config, create_directories, finalize_quadrant\n"
   ]
  },
  {
   "cell_type": "code",
   "execution_count": 7,
   "metadata": {},
   "outputs": [
    {
     "name": "stderr",
     "output_type": "stream",
     "text": [
      "\u001b[33;1m2024-09-04 05:54:23,491 - mani_skill2 - WARNING - Override registered env CustomEnv-v0\u001b[0m\n",
      "[2024-09-04 05:54:23.647] [svulkan2] [warning] A second renderer will share the same internal context with the first one. Arguments passed to constructor will be ignored.\n",
      "  0%|          | 0/4 [00:00<?, ?it/s]"
     ]
    },
    {
     "name": "stdout",
     "output_type": "stream",
     "text": [
      "(array([0.  , 0.35]), array([0. , 0.6]))\n",
      "(array([-0.35,  0.  ]), array([0. , 0.6]))\n"
     ]
    },
    {
     "name": "stderr",
     "output_type": "stream",
     "text": [
      "OpenCV: FFMPEG: tag 0x5634504d/'MP4V' is not supported with codec id 12 and format 'mp4 / MP4 (MPEG-4 Part 14)'\n",
      "OpenCV: FFMPEG: fallback to use tag 0x7634706d/'mp4v'\n"
     ]
    },
    {
     "name": "stdout",
     "output_type": "stream",
     "text": [
      "(array([0.  , 0.35]), array([0. , 0.6]))\n",
      "(array([-0.35,  0.  ]), array([0. , 0.6]))\n"
     ]
    },
    {
     "name": "stderr",
     "output_type": "stream",
     "text": [
      "OpenCV: FFMPEG: tag 0x5634504d/'MP4V' is not supported with codec id 12 and format 'mp4 / MP4 (MPEG-4 Part 14)'\n",
      "OpenCV: FFMPEG: fallback to use tag 0x7634706d/'mp4v'\n"
     ]
    },
    {
     "name": "stdout",
     "output_type": "stream",
     "text": [
      "(array([-0.35,  0.  ]), array([-0.6,  0. ]))\n",
      "(array([0.  , 0.35]), array([-0.6,  0. ]))\n"
     ]
    },
    {
     "name": "stderr",
     "output_type": "stream",
     "text": [
      "OpenCV: FFMPEG: tag 0x5634504d/'MP4V' is not supported with codec id 12 and format 'mp4 / MP4 (MPEG-4 Part 14)'\n",
      "OpenCV: FFMPEG: fallback to use tag 0x7634706d/'mp4v'\n"
     ]
    },
    {
     "name": "stdout",
     "output_type": "stream",
     "text": [
      "(array([0.  , 0.35]), array([0. , 0.6]))\n",
      "(array([0.  , 0.35]), array([0. , 0.6]))\n"
     ]
    },
    {
     "name": "stderr",
     "output_type": "stream",
     "text": [
      "OpenCV: FFMPEG: tag 0x5634504d/'MP4V' is not supported with codec id 12 and format 'mp4 / MP4 (MPEG-4 Part 14)'\n",
      "OpenCV: FFMPEG: fallback to use tag 0x7634706d/'mp4v'\n"
     ]
    },
    {
     "name": "stdout",
     "output_type": "stream",
     "text": [
      "(array([-0.35,  0.  ]), array([-0.6,  0. ]))\n",
      "(array([0.  , 0.35]), array([-0.6,  0. ]))\n"
     ]
    },
    {
     "name": "stderr",
     "output_type": "stream",
     "text": [
      "OpenCV: FFMPEG: tag 0x5634504d/'MP4V' is not supported with codec id 12 and format 'mp4 / MP4 (MPEG-4 Part 14)'\n",
      "OpenCV: FFMPEG: fallback to use tag 0x7634706d/'mp4v'\n"
     ]
    },
    {
     "name": "stdout",
     "output_type": "stream",
     "text": [
      "(array([-0.35,  0.  ]), array([-0.6,  0. ]))\n",
      "(array([0.  , 0.35]), array([-0.6,  0. ]))\n"
     ]
    },
    {
     "name": "stderr",
     "output_type": "stream",
     "text": [
      "OpenCV: FFMPEG: tag 0x5634504d/'MP4V' is not supported with codec id 12 and format 'mp4 / MP4 (MPEG-4 Part 14)'\n",
      "OpenCV: FFMPEG: fallback to use tag 0x7634706d/'mp4v'\n"
     ]
    },
    {
     "name": "stdout",
     "output_type": "stream",
     "text": [
      "(array([0.  , 0.35]), array([-0.6,  0. ]))\n",
      "(array([-0.35,  0.  ]), array([0. , 0.6]))\n"
     ]
    },
    {
     "name": "stderr",
     "output_type": "stream",
     "text": [
      "OpenCV: FFMPEG: tag 0x5634504d/'MP4V' is not supported with codec id 12 and format 'mp4 / MP4 (MPEG-4 Part 14)'\n",
      "OpenCV: FFMPEG: fallback to use tag 0x7634706d/'mp4v'\n"
     ]
    },
    {
     "name": "stdout",
     "output_type": "stream",
     "text": [
      "(array([0.  , 0.35]), array([-0.6,  0. ]))\n",
      "(array([0.  , 0.35]), array([-0.6,  0. ]))\n"
     ]
    },
    {
     "name": "stderr",
     "output_type": "stream",
     "text": [
      "OpenCV: FFMPEG: tag 0x5634504d/'MP4V' is not supported with codec id 12 and format 'mp4 / MP4 (MPEG-4 Part 14)'\n",
      "OpenCV: FFMPEG: fallback to use tag 0x7634706d/'mp4v'\n"
     ]
    },
    {
     "name": "stdout",
     "output_type": "stream",
     "text": [
      "(array([0.  , 0.35]), array([-0.6,  0. ]))\n",
      "(array([-0.35,  0.  ]), array([0. , 0.6]))\n"
     ]
    },
    {
     "name": "stderr",
     "output_type": "stream",
     "text": [
      "OpenCV: FFMPEG: tag 0x5634504d/'MP4V' is not supported with codec id 12 and format 'mp4 / MP4 (MPEG-4 Part 14)'\n",
      "OpenCV: FFMPEG: fallback to use tag 0x7634706d/'mp4v'\n"
     ]
    },
    {
     "name": "stdout",
     "output_type": "stream",
     "text": [
      "(array([0.  , 0.35]), array([-0.6,  0. ]))\n",
      "(array([0.  , 0.35]), array([-0.6,  0. ]))\n"
     ]
    },
    {
     "name": "stderr",
     "output_type": "stream",
     "text": [
      "OpenCV: FFMPEG: tag 0x5634504d/'MP4V' is not supported with codec id 12 and format 'mp4 / MP4 (MPEG-4 Part 14)'\n",
      "OpenCV: FFMPEG: fallback to use tag 0x7634706d/'mp4v'\n",
      "  0%|          | 0/4 [01:12<?, ?it/s]\n"
     ]
    }
   ],
   "source": [
    "def generate_scenes(env, final_dir, data_dir, early_stop=None):\n",
    "    outputs = []\n",
    "    scene_index = 0\n",
    "    \n",
    "    for background in trange(4):\n",
    "        for quadrant in background_quadrants[background]:\n",
    "            for objects in object_pairs:\n",
    "                for colors_pair in color_pairs:\n",
    "                    for size in potential_sizes:\n",
    "                        for directions in moving_directions:\n",
    "                            for distance in direction_lengths:\n",
    "                                for steps in step_counts:\n",
    "                                    scene_index += 1\n",
    "                                    if early_stop is not None and scene_index > early_stop:\n",
    "                                        return outputs\n",
    "                                    \n",
    "                                    configs = []\n",
    "                                    for obj_index, obj_type in enumerate(objects):\n",
    "                                        color = colors_pair[obj_index]\n",
    "                                        random.seed(scene_index*1000+obj_index)\n",
    "                                        position_range = get_position_range(background_quadrants, background, scale=0.6)\n",
    "                                        if obj_type == 'custom':\n",
    "                                            obj_config = create_config(obj_type, color_maps[color], size*1.1/2, position_range, name=\"002_master_chef_can\")\n",
    "                                        else:\n",
    "                                            obj_config = create_config(obj_type, color_maps[color], size, position_range, name=obj_type)\n",
    "                                        configs.append(obj_config)\n",
    "                                    \n",
    "                                    \n",
    "\n",
    "                                    configs_collate = collate_infos(configs)\n",
    "                                    env.register_configures(configs_collate)\n",
    "                                    _ = env.reset(options={\"reconfigure\": True})\n",
    "                                    \n",
    "                                    \n",
    "\n",
    "                                    env.initialize_objects(background=background)\n",
    "                                    obs, _, _, _, _ = env.step(np.zeros(len(env.action_space.sample())))\n",
    "                                    \n",
    "                                    initilization_poses, mov_pos, ref_pos = initialize_obj_nooverlap_path(directions[0], configs, distance, env)\n",
    "                                    initilization_poses[0] = mov_pos \n",
    "                                    \n",
    "                                    env.set_poses(initilization_poses)\n",
    "\n",
    "                                    # initialization_poses = env.get_important_obj_poses(mode=\"all\")\n",
    "\n",
    "                                    # env.set_poses(initialization_poses)\n",
    "                                    \n",
    "                                    direction_configs = [(0, 0, direction) for direction in directions]\n",
    "                                    distances = [distance for _ in directions]\n",
    "                                    frames = env.move_in_directions(direction_configs, distances, steps=steps, camera_view=\"all\")\n",
    "                                    \n",
    "                                    video_name = f\"scene_{scene_index}\"\n",
    "                                    video_path = os.path.join(final_dir, f\"videos/{video_name}.mp4\")\n",
    "                                    os.makedirs(os.path.dirname(video_path), exist_ok=True)\n",
    "                                    generate_video(video_path, frames['top0'], fps=20, color_change=True)\n",
    "\n",
    "                                    image_dir = os.path.join(final_dir, f\"images/scene_{scene_index}\")\n",
    "                                    save_images_pararell(frames['top0'], image_dir)\n",
    "\n",
    "                                    speed = distance / steps\n",
    "                                    outputs.append({\n",
    "                                        \"scene_index\": scene_index,\n",
    "                                        \"source\": os.path.relpath(video_path, start=data_dir),\n",
    "                                        \"moving_obj\": colors_pair[0],\n",
    "                                        \"moving_obj_type\": objects[0],\n",
    "                                        \"ref_obj\": colors_pair[1],\n",
    "                                        \"ref_obj_type\": objects[1],\n",
    "                                        \"direction\": directions[0],\n",
    "                                        \"distance\": distance,\n",
    "                                        \"steps\": steps,\n",
    "                                        \"speed\": speed,\n",
    "                                        \"size\": size,\n",
    "                                        \"background\": background,\n",
    "                                        \"quadrant\": quadrant,\n",
    "                                        #\"initial_positions\": [obj_config['ranges'] for obj_config in configs],\n",
    "                                    })\n",
    "    \n",
    "    return outputs\n",
    "\n",
    "# Define directories\n",
    "data_dir = \"../benchmark/motion/speed\"\n",
    "final_dir = create_directories(data_dir, empty=True)\n",
    "\n",
    "# Initialize parameters\n",
    "random.seed(42)\n",
    "objects = [\"cube\", \"sphere\", \"custom\"]\n",
    "object_pairs = list(combinations(objects, 2))\n",
    "moving_directions = [[\"left\"], [\"right\"], [\"front\"], [\"behind\"]]\n",
    "color_keys = list(color_maps.keys())\n",
    "color_pairs = list(permutations(color_keys, 2))[:7]\n",
    "random.shuffle(color_pairs)\n",
    "direction_lengths = [0.2, 0.4]\n",
    "potential_sizes = [0.03, 0.05]\n",
    "step_counts = [10, 20]  # Three different step counts for three speeds\n",
    "\n",
    "with warnings.catch_warnings():\n",
    "    warnings.simplefilter(\"ignore\")\n",
    "    env = gym.make(\"CustomEnv-v0\", obs_mode=\"rgbd\")\n",
    "\n",
    "    # Set early_stop to None if you want to generate all scenes\n",
    "    early_stop = 10\n",
    "    outputs = generate_scenes(env, final_dir, data_dir, early_stop)\n",
    "\n",
    "    write_out(f\"{data_dir}/index.jsonl\", outputs)\n",
    "\n",
    "del env"
   ]
  },
  {
   "cell_type": "code",
   "execution_count": null,
   "metadata": {},
   "outputs": [],
   "source": []
  }
 ],
 "metadata": {
  "kernelspec": {
   "display_name": "base",
   "language": "python",
   "name": "python3"
  },
  "language_info": {
   "codemirror_mode": {
    "name": "ipython",
    "version": 3
   },
   "file_extension": ".py",
   "mimetype": "text/x-python",
   "name": "python",
   "nbconvert_exporter": "python",
   "pygments_lexer": "ipython3",
   "version": "3.8.16"
  }
 },
 "nbformat": 4,
 "nbformat_minor": 2
}
