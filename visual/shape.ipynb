{
 "cells": [
  {
   "cell_type": "code",
   "execution_count": 1,
   "metadata": {
    "metadata": {}
   },
   "outputs": [],
   "source": [
    "%load_ext autoreload\n",
    "%autoreload 2\n",
    "import numpy as np\n",
    "import sys\n",
    "sys.path.append('..')\n",
    "from PIL import Image\n",
    "from tqdm import trange\n",
    "import gymnasium as gym\n",
    "import numpy as np\n",
    "from sapien.core import Pose\n",
    "import matplotlib.pyplot as plt\n",
    "import os\n",
    "import warnings\n",
    "import shutil\n",
    "import random\n",
    "import math\n",
    "from plot_utils import *\n",
    "from itertools import product, combinations, permutations\n",
    "#!wget https://dl.fbaipublicfiles.com/habitat/ReplicaCAD/hab2_bench_assets.zip -P data\n",
    "#!cd data && unzip -q hab2_bench_assets.zip -d hab2_bench_assets\n",
    "from utils import *\n",
    "from agent_env_utils import *\n",
    "from config import (\n",
    "    data_dir, initial_dir, final_dir,\n",
    "    size_types, space_types, bound_types,\n",
    "    moving_directions, color_maps,\n",
    "    potential_sizes, direction_length, scales,\n",
    "    background_quadrants, directions\n",
    ")\n",
    "from scene_helpers import get_position_range, create_config, create_directories, finalize_quadrant"
   ]
  },
  {
   "cell_type": "code",
   "execution_count": 2,
   "metadata": {
    "metadata": {}
   },
   "outputs": [],
   "source": [
    "def place_main_objects(env, configs):\n",
    "    base_size = 0.05\n",
    "    main_placements = [(i + 1, i, \"right\") for i in range(len(configs) - 1)]\n",
    "    distance = np.random.uniform(3 * base_size, 3.5 * base_size) * np.sqrt(2)\n",
    "    \n",
    "    for direction_config in main_placements:\n",
    "        move_obj, ref_obj, direction = direction_config\n",
    "        \n",
    "        # Calculate new distance for the object to be placed\n",
    "        if direction == \"top\" and configs[move_obj]['obj_type'] == \"custom\":\n",
    "            new_distance = distance + 2 * base_size \n",
    "        else:\n",
    "            new_distance = distance\n",
    "        \n",
    "        # Spawn the moving object\n",
    "        env.spawn_next(direction_config, distance=new_distance)\n",
    "\n",
    "        # Adjust the Z position for the moving object\n",
    "        z_offset_move = configs[move_obj]['size'] *0.2\n",
    "        current_pose_move = env.objects[move_obj].get_pose()  \n",
    "        new_z_position_move = current_pose_move.p[2] + z_offset_move\n",
    "        env.objects[move_obj].set_pose(Pose([current_pose_move.p[0], current_pose_move.p[1], new_z_position_move]))\n",
    "\n",
    "        # Adjust the Z position for the reference object\n",
    "        z_offset_ref = configs[ref_obj]['size'] * 0.2\n",
    "        current_pose_ref = env.objects[ref_obj].get_pose()  \n",
    "        new_z_position_ref = current_pose_ref.p[2] + z_offset_ref\n",
    "        env.objects[ref_obj].set_pose(Pose([current_pose_ref.p[0], current_pose_ref.p[1], new_z_position_ref]))"
   ]
  },
  {
   "cell_type": "code",
   "execution_count": 3,
   "metadata": {
    "metadata": {}
   },
   "outputs": [
    {
     "name": "stderr",
     "output_type": "stream",
     "text": [
      "[2024-10-15 06:07:28.060] [svulkan2] [error] GLFW error: X11: The DISPLAY environment variable is missing\n",
      "[2024-10-15 06:07:28.060] [svulkan2] [warning] Continue without GLFW.\n",
      "  0%|          | 0/4 [00:17<?, ?it/s]\n"
     ]
    },
    {
     "ename": "KeyboardInterrupt",
     "evalue": "",
     "output_type": "error",
     "traceback": [
      "\u001b[0;31m---------------------------------------------------------------------------\u001b[0m",
      "\u001b[0;31mKeyboardInterrupt\u001b[0m                         Traceback (most recent call last)",
      "Cell \u001b[0;32mIn[3], line 45\u001b[0m\n\u001b[1;32m     43\u001b[0m _ \u001b[38;5;241m=\u001b[39m env\u001b[38;5;241m.\u001b[39mreset(options\u001b[38;5;241m=\u001b[39m{\u001b[38;5;124m\"\u001b[39m\u001b[38;5;124mreconfigure\u001b[39m\u001b[38;5;124m\"\u001b[39m: \u001b[38;5;28;01mTrue\u001b[39;00m})\n\u001b[1;32m     44\u001b[0m env\u001b[38;5;241m.\u001b[39minitialize_objects(background\u001b[38;5;241m=\u001b[39mbackground)\n\u001b[0;32m---> 45\u001b[0m obs, _, _, _, _ \u001b[38;5;241m=\u001b[39m \u001b[43menv\u001b[49m\u001b[38;5;241;43m.\u001b[39;49m\u001b[43mstep\u001b[49m\u001b[43m(\u001b[49m\u001b[43mnp\u001b[49m\u001b[38;5;241;43m.\u001b[39;49m\u001b[43mzeros\u001b[49m\u001b[43m(\u001b[49m\u001b[38;5;28;43mlen\u001b[39;49m\u001b[43m(\u001b[49m\u001b[43menv\u001b[49m\u001b[38;5;241;43m.\u001b[39;49m\u001b[43maction_space\u001b[49m\u001b[38;5;241;43m.\u001b[39;49m\u001b[43msample\u001b[49m\u001b[43m(\u001b[49m\u001b[43m)\u001b[49m\u001b[43m)\u001b[49m\u001b[43m)\u001b[49m\u001b[43m)\u001b[49m                       \n\u001b[1;32m     47\u001b[0m place_main_objects(env, configs)                          \n\u001b[1;32m     49\u001b[0m save_dir \u001b[38;5;241m=\u001b[39m \u001b[38;5;124mf\u001b[39m\u001b[38;5;124m\"\u001b[39m\u001b[38;5;132;01m{\u001b[39;00mfinal_dir\u001b[38;5;132;01m}\u001b[39;00m\u001b[38;5;124m/episode\u001b[39m\u001b[38;5;132;01m{\u001b[39;00midx\u001b[38;5;132;01m}\u001b[39;00m\u001b[38;5;124m_obj_\u001b[39m\u001b[38;5;132;01m{\u001b[39;00mobj_names\u001b[38;5;132;01m}\u001b[39;00m\u001b[38;5;124m.png\u001b[39m\u001b[38;5;124m\"\u001b[39m\n",
      "File \u001b[0;32m/opt/conda/lib/python3.8/site-packages/gymnasium/wrappers/time_limit.py:57\u001b[0m, in \u001b[0;36mTimeLimit.step\u001b[0;34m(self, action)\u001b[0m\n\u001b[1;32m     46\u001b[0m \u001b[38;5;28;01mdef\u001b[39;00m \u001b[38;5;21mstep\u001b[39m(\u001b[38;5;28mself\u001b[39m, action):\n\u001b[1;32m     47\u001b[0m \u001b[38;5;250m    \u001b[39m\u001b[38;5;124;03m\"\"\"Steps through the environment and if the number of steps elapsed exceeds ``max_episode_steps`` then truncate.\u001b[39;00m\n\u001b[1;32m     48\u001b[0m \n\u001b[1;32m     49\u001b[0m \u001b[38;5;124;03m    Args:\u001b[39;00m\n\u001b[0;32m   (...)\u001b[0m\n\u001b[1;32m     55\u001b[0m \n\u001b[1;32m     56\u001b[0m \u001b[38;5;124;03m    \"\"\"\u001b[39;00m\n\u001b[0;32m---> 57\u001b[0m     observation, reward, terminated, truncated, info \u001b[38;5;241m=\u001b[39m \u001b[38;5;28;43mself\u001b[39;49m\u001b[38;5;241;43m.\u001b[39;49m\u001b[43menv\u001b[49m\u001b[38;5;241;43m.\u001b[39;49m\u001b[43mstep\u001b[49m\u001b[43m(\u001b[49m\u001b[43maction\u001b[49m\u001b[43m)\u001b[49m\n\u001b[1;32m     58\u001b[0m     \u001b[38;5;28mself\u001b[39m\u001b[38;5;241m.\u001b[39m_elapsed_steps \u001b[38;5;241m+\u001b[39m\u001b[38;5;241m=\u001b[39m \u001b[38;5;241m1\u001b[39m\n\u001b[1;32m     60\u001b[0m     \u001b[38;5;28;01mif\u001b[39;00m \u001b[38;5;28mself\u001b[39m\u001b[38;5;241m.\u001b[39m_elapsed_steps \u001b[38;5;241m>\u001b[39m\u001b[38;5;241m=\u001b[39m \u001b[38;5;28mself\u001b[39m\u001b[38;5;241m.\u001b[39m_max_episode_steps:\n",
      "File \u001b[0;32m/opt/conda/lib/python3.8/site-packages/gymnasium/wrappers/order_enforcing.py:56\u001b[0m, in \u001b[0;36mOrderEnforcing.step\u001b[0;34m(self, action)\u001b[0m\n\u001b[1;32m     54\u001b[0m \u001b[38;5;28;01mif\u001b[39;00m \u001b[38;5;129;01mnot\u001b[39;00m \u001b[38;5;28mself\u001b[39m\u001b[38;5;241m.\u001b[39m_has_reset:\n\u001b[1;32m     55\u001b[0m     \u001b[38;5;28;01mraise\u001b[39;00m ResetNeeded(\u001b[38;5;124m\"\u001b[39m\u001b[38;5;124mCannot call env.step() before calling env.reset()\u001b[39m\u001b[38;5;124m\"\u001b[39m)\n\u001b[0;32m---> 56\u001b[0m \u001b[38;5;28;01mreturn\u001b[39;00m \u001b[38;5;28;43mself\u001b[39;49m\u001b[38;5;241;43m.\u001b[39;49m\u001b[43menv\u001b[49m\u001b[38;5;241;43m.\u001b[39;49m\u001b[43mstep\u001b[49m\u001b[43m(\u001b[49m\u001b[43maction\u001b[49m\u001b[43m)\u001b[49m\n",
      "File \u001b[0;32m/opt/conda/lib/python3.8/site-packages/gymnasium/core.py:523\u001b[0m, in \u001b[0;36mObservationWrapper.step\u001b[0;34m(self, action)\u001b[0m\n\u001b[1;32m    521\u001b[0m \u001b[38;5;250m\u001b[39m\u001b[38;5;124;03m\"\"\"Modifies the :attr:`env` after calling :meth:`step` using :meth:`self.observation` on the returned observations.\"\"\"\u001b[39;00m\n\u001b[1;32m    522\u001b[0m observation, reward, terminated, truncated, info \u001b[38;5;241m=\u001b[39m \u001b[38;5;28mself\u001b[39m\u001b[38;5;241m.\u001b[39menv\u001b[38;5;241m.\u001b[39mstep(action)\n\u001b[0;32m--> 523\u001b[0m \u001b[38;5;28;01mreturn\u001b[39;00m \u001b[38;5;28;43mself\u001b[39;49m\u001b[38;5;241;43m.\u001b[39;49m\u001b[43mobservation\u001b[49m\u001b[43m(\u001b[49m\u001b[43mobservation\u001b[49m\u001b[43m)\u001b[49m, reward, terminated, truncated, info\n",
      "File \u001b[0;32m/opt/conda/lib/python3.8/site-packages/mani_skill2/utils/wrappers/observation.py:68\u001b[0m, in \u001b[0;36mRGBDObservationWrapper.observation\u001b[0;34m(self, observation)\u001b[0m\n\u001b[1;32m     66\u001b[0m \u001b[38;5;28;01mif\u001b[39;00m key \u001b[38;5;241m==\u001b[39m \u001b[38;5;124m\"\u001b[39m\u001b[38;5;124mColor\u001b[39m\u001b[38;5;124m\"\u001b[39m:\n\u001b[1;32m     67\u001b[0m     rgb \u001b[38;5;241m=\u001b[39m ori_images[key][\u001b[38;5;241m.\u001b[39m\u001b[38;5;241m.\u001b[39m\u001b[38;5;241m.\u001b[39m, :\u001b[38;5;241m3\u001b[39m]  \u001b[38;5;66;03m# [H, W, 4]\u001b[39;00m\n\u001b[0;32m---> 68\u001b[0m     rgb \u001b[38;5;241m=\u001b[39m np\u001b[38;5;241m.\u001b[39mclip(\u001b[43mrgb\u001b[49m\u001b[43m \u001b[49m\u001b[38;5;241;43m*\u001b[39;49m\u001b[43m \u001b[49m\u001b[38;5;241;43m255\u001b[39;49m, \u001b[38;5;241m0\u001b[39m, \u001b[38;5;241m255\u001b[39m)\u001b[38;5;241m.\u001b[39mastype(np\u001b[38;5;241m.\u001b[39muint8)\n\u001b[1;32m     69\u001b[0m     new_images[\u001b[38;5;124m\"\u001b[39m\u001b[38;5;124mrgb\u001b[39m\u001b[38;5;124m\"\u001b[39m] \u001b[38;5;241m=\u001b[39m rgb  \u001b[38;5;66;03m# [H, W, 4]\u001b[39;00m\n\u001b[1;32m     70\u001b[0m \u001b[38;5;28;01melif\u001b[39;00m key \u001b[38;5;241m==\u001b[39m \u001b[38;5;124m\"\u001b[39m\u001b[38;5;124mPosition\u001b[39m\u001b[38;5;124m\"\u001b[39m:\n",
      "\u001b[0;31mKeyboardInterrupt\u001b[0m: "
     ]
    }
   ],
   "source": [
    "# Define directories\n",
    "data_dir = \"../benchmark/visual/shape\"\n",
    "final_dir = create_directories(data_dir, empty=True)\n",
    "\n",
    "# Initialize pair of colors\n",
    "colors = list(color_maps.keys())\n",
    "random.seed(42)\n",
    "random.shuffle(colors)\n",
    "\n",
    "object_shapes = [\"cube\", \"custom\",\"sphere\"]\n",
    "object_size_ranges = {\n",
    "    \"sphere\": (0.03, 0.07),\n",
    "    \"cube\": (0.05, 0.08),\n",
    "    \"custom\": (0.05, 0.09)\n",
    "}\n",
    "\n",
    "with warnings.catch_warnings():\n",
    "    warnings.simplefilter(\"ignore\")\n",
    "    env = gym.make(\"CustomEnv-v0\", obs_mode=\"rgbd\")\n",
    "\n",
    "    outputs = []\n",
    "    idx = 0\n",
    "    for background in trange(4):\n",
    "        for quadrant_idx, quadrant in enumerate(background_quadrants[background]):\n",
    "            # Decide the boundary of each background\n",
    "            object_position_range= get_position_range(background_quadrants, background, scale=0.6)\n",
    "            ranges = [tuple(range) for range in object_position_range]\n",
    "            for obj_names in list(itertools.product(object_shapes, repeat=2)):\n",
    "                for color in colors:\n",
    "                    configs = []             \n",
    "                    # Iterate over object names and create object configurations\n",
    "                    for i, obj_name in enumerate(obj_names):\n",
    "                        obj_range = object_size_ranges[obj_name]\n",
    "                        size = random.uniform(min(obj_range), max(obj_range))\n",
    "                        if(obj_name == 'custom'):\n",
    "                            config = {'obj_type': obj_name, 'name': \"002_master_chef_can\", 'size': size*1.1/2, 'ranges': ranges, 'static': True,'color': color_maps[color]}\n",
    "                        else:\n",
    "                            config = {'size': size, 'color': color_maps[color], 'obj_type': obj_name, 'ranges': ranges, 'static': True, 'name':obj_name}\n",
    "                        configs.append(config)\n",
    "\n",
    "                    # register configures \n",
    "                    env.register_configures(collate_infos(configs)) \n",
    "                    _ = env.reset(options={\"reconfigure\": True})\n",
    "                    env.initialize_objects(background=background)\n",
    "                    obs, _, _, _, _ = env.step(np.zeros(len(env.action_space.sample())))                       \n",
    "\n",
    "                    place_main_objects(env, configs)                          \n",
    "\n",
    "                    save_dir = f\"{final_dir}/episode{idx}_obj_{obj_names}.png\"\n",
    "                    views = [f\"front{background}\", f\"side{background}\", f\"top{background}\"]\n",
    "                    collect_and_save(env, save_dir, steps=1, mode=views)\n",
    "           \n",
    "                    output = {\n",
    "                        'episode_id': idx,\n",
    "                        \"source\": save_dir,\n",
    "                        \"obj_names\": obj_names,\n",
    "                        'sizes': [config['size'] for config in configs],\n",
    "                        \"colors\": color,\n",
    "                        \"initiate_area\": ranges,\n",
    "                        \"quadrant\": quadrant_idx,\n",
    "                        \"background\": background,\n",
    "                    }\n",
    "                    outputs.append(output)\n",
    "                    idx += 1\n",
    "                            \n",
    "    \n",
    "    write_out(f\"{data_dir}/index.jsonl\", outputs)\n",
    "\n",
    "del env\n"
   ]
  },
  {
   "cell_type": "code",
   "execution_count": 11,
   "metadata": {},
   "outputs": [
    {
     "data": {
      "text/plain": [
       "48"
      ]
     },
     "execution_count": 11,
     "metadata": {},
     "output_type": "execute_result"
    }
   ],
   "source": [
    "idx"
   ]
  }
 ],
 "metadata": {
  "kernelspec": {
   "display_name": "base",
   "language": "python",
   "name": "python3"
  },
  "language_info": {
   "codemirror_mode": {
    "name": "ipython",
    "version": 3
   },
   "file_extension": ".py",
   "mimetype": "text/x-python",
   "name": "python",
   "nbconvert_exporter": "python",
   "pygments_lexer": "ipython3",
   "version": "3.8.16"
  }
 },
 "nbformat": 4,
 "nbformat_minor": 2
}
