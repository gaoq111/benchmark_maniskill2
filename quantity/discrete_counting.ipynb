{
 "cells": [
  {
   "cell_type": "code",
   "execution_count": 2,
   "metadata": {},
   "outputs": [],
   "source": [
    "import matplotlib.pyplot as plt\n",
    "import numpy as np\n",
    "import gymnasium as gym\n",
    "import sys\n",
    "sys.path.append('..')\n",
    "from PIL import Image\n",
    "from tqdm import trange\n",
    "import numpy as np\n",
    "import matplotlib.pyplot as plt\n",
    "import os\n",
    "from plot_utils import *\n",
    "from utils import *\n",
    "from agent_env_utils import *\n",
    "from config import color_maps, background_quadrants\n",
    "import warnings\n",
    "from scene_helpers import get_random_position, create_config, create_directories, finalize_quadrant\n",
    "\n"
   ]
  },
  {
   "cell_type": "code",
   "execution_count": 8,
   "metadata": {},
   "outputs": [
    {
     "name": "stderr",
     "output_type": "stream",
     "text": [
      "[2024-08-31 04:03:26.644] [svulkan2] [error] GLFW error: X11: Failed to open display :5\n",
      "[2024-08-31 04:03:26.644] [svulkan2] [warning] Continue without GLFW.\n",
      "100%|██████████| 4/4 [01:01<00:00, 15.27s/it]\n"
     ]
    }
   ],
   "source": [
    "\n",
    "\n",
    "# Define directories\n",
    "data_dir = \"../benchmark/quantity/discrete_counting\"\n",
    "final_dir = create_directories(data_dir, empty=True)\n",
    "\n",
    "# Initialize pair of colors\n",
    "color_keys = list(color_maps.keys())\n",
    "random.seed(42)\n",
    "random.shuffle(color_keys)\n",
    "\n",
    "# Define ranges and object parameters\n",
    "object_shapes = [\"sphere\", \"cube\"]\n",
    "object_size_ranges = {\n",
    "    \"sphere\": (0.02, 0.05),\n",
    "    \"cube\": (0.02, 0.05),\n",
    "}\n",
    "num_objects_range = (1, 7)\n",
    "\n",
    "with warnings.catch_warnings():\n",
    "    warnings.simplefilter(\"ignore\")\n",
    "    env = gym.make(\"CustomEnv-v0\", obs_mode=\"rgbd\")\n",
    "\n",
    "    outputs = []\n",
    "    for background in trange(4):\n",
    "        for color_idx in range(5):  # Adjust the range as needed\n",
    "            color = color_keys[color_idx]\n",
    "            for r in range(2):  # Increase if you want more examples per color and background\n",
    "                \n",
    "                # Generate random configurations for objects\n",
    "                num_objects = np.random.randint(*num_objects_range)\n",
    "                configs = []\n",
    "                object_types = []\n",
    "                for _ in range(num_objects):\n",
    "                    obj_type = random.choice(object_shapes)\n",
    "                    object_types.append(obj_type)\n",
    "                    position = get_random_position(background_quadrants, background, scale=1)\n",
    "                    configs.append(create_config(obj_type, color_maps[color], object_size_ranges[obj_type], position))\n",
    "\n",
    "                configs_collate = collate_infos(configs)\n",
    "\n",
    "                env.register_configures(configs_collate)\n",
    "                \n",
    "                _ = env.reset(options={\"reconfigure\": True})\n",
    "\n",
    "                env.initialize_objects(background=background)\n",
    "                obs, _, _, _, _ = env.step(np.zeros(len(env.action_space.sample())))\n",
    "\n",
    "                save_dir_final = f\"{final_dir}/{color}_bg{background}_num{num_objects}_r{r}.png\"\n",
    "                collect_and_save(env, save_dir_final, steps=1, mode=[f\"front{background}\", f\"side{background}\", f\"top{background}\"])\n",
    "                poses_final = env.get_important_obj_poses()\n",
    "                \n",
    "                outputs.append({\n",
    "                    \"source\": '/'.join(save_dir_final.split('/')[1:-1]),\n",
    "                    \"color\": color,\n",
    "                    \"num_objects\": num_objects,\n",
    "                    \"background\": background,\n",
    "                    \"round\": r,\n",
    "                    \"sizes\": [np.round(size, 4).tolist() for size in configs_collate['size']],\n",
    "                    #\"poses_final\": [np.round(item, 4).tolist() for item in poses_final],\n",
    "                })\n",
    "\n",
    "    write_out(f\"{data_dir}/index.jsonl\", outputs)\n",
    "\n",
    "del env"
   ]
  },
  {
   "cell_type": "code",
   "execution_count": null,
   "metadata": {},
   "outputs": [],
   "source": []
  }
 ],
 "metadata": {
  "kernelspec": {
   "display_name": "base",
   "language": "python",
   "name": "python3"
  },
  "language_info": {
   "codemirror_mode": {
    "name": "ipython",
    "version": 3
   },
   "file_extension": ".py",
   "mimetype": "text/x-python",
   "name": "python",
   "nbconvert_exporter": "python",
   "pygments_lexer": "ipython3",
   "version": "3.8.16"
  }
 },
 "nbformat": 4,
 "nbformat_minor": 2
}
