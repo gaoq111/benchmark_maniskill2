{
 "cells": [
  {
   "cell_type": "code",
   "execution_count": 1,
   "metadata": {},
   "outputs": [],
   "source": [
    "%load_ext autoreload\n",
    "%autoreload 2\n",
    "import matplotlib.pyplot as plt\n",
    "import numpy as np\n",
    "import gymnasium as gym\n",
    "import sys\n",
    "sys.path.append('..')\n",
    "from PIL import Image\n",
    "from tqdm import trange\n",
    "import numpy as np\n",
    "import matplotlib.pyplot as plt\n",
    "import os\n",
    "from plot_utils import *\n",
    "from utils import *\n",
    "from agent_env_utils import *\n",
    "from config import color_maps, background_quadrants, background_specs\n",
    "import warnings\n",
    "\n",
    "from scene_helpers import get_position_range, create_config, create_directories, finalize_quadrant\n"
   ]
  },
  {
   "cell_type": "code",
   "execution_count": 2,
   "metadata": {},
   "outputs": [
    {
     "name": "stderr",
     "output_type": "stream",
     "text": [
      "[2024-09-17 06:34:58.603] [svulkan2] [error] GLFW error: X11: Failed to open display :0\n",
      "[2024-09-17 06:34:58.603] [svulkan2] [warning] Continue without GLFW.\n",
      "100%|██████████| 4/4 [02:29<00:00, 37.46s/it]\n"
     ]
    }
   ],
   "source": [
    "# Define directories\n",
    "data_dir = \"../benchmark/quantity/relative\"\n",
    "final_dir = create_directories(data_dir, empty=True)\n",
    "\n",
    "# Initialize pair of colors\n",
    "color_keys = list(color_maps.keys())\n",
    "\n",
    "random.seed(42)\n",
    "random.shuffle(color_keys)\n",
    "\n",
    "color_pairs = list(itertools.permutations(color_keys, 2))\n",
    "\n",
    "# Define ranges and object parameters\n",
    "object_shapes = [\"sphere\", \"cube\"]\n",
    "object_size_ranges = {\n",
    "    \"sphere\": (0.02, 0.06),\n",
    "    \"cube\": (0.02, 0.06),\n",
    "}\n",
    "num_objects_range = (1, 7)\n",
    "# ... existing imports and functions ...\n",
    "\n",
    "with warnings.catch_warnings():\n",
    "    warnings.simplefilter(\"ignore\")\n",
    "    env = gym.make(\"CustomEnv-v0\", obs_mode=\"rgbd\")\n",
    "\n",
    "    count = 0\n",
    "    outputs = []\n",
    "    for background in trange(4):\n",
    "        for color1, color2 in color_pairs[:10]:\n",
    "            for r in range(2):  # Increase if you want more examples per color pair and background\n",
    "                \n",
    "                # Generate random configurations for objects\n",
    "                count += 1\n",
    "                num_objects1 = np.random.randint(*num_objects_range)\n",
    "                num_objects2 = np.random.randint(*num_objects_range)\n",
    "                configs = []\n",
    "                objects_info = {color1: [], color2: []}\n",
    "                \n",
    "                # Generate objects for color1\n",
    "                for _ in range(num_objects1):\n",
    "                    obj_type = random.choice(object_shapes)\n",
    "                    #position = get_position_range(background_quadrants, background, scale=1)\n",
    "                    position_range = background_specs[background]\n",
    "                    size = np.random.uniform(*object_size_ranges[obj_type])\n",
    "                    configs.append(create_config(obj_type, color_maps[color1], size, position_range))\n",
    "                    objects_info[color1].append({\"type\": obj_type, \"size\": np.round(size, 4)})\n",
    "                \n",
    "                # Generate objects for color2\n",
    "                for _ in range(num_objects2):\n",
    "                    obj_type = random.choice(object_shapes)\n",
    "                    #position = get_position_range(background_quadrants, background, scale=1)\n",
    "                    position_range = background_specs[background]\n",
    "                    size = np.random.uniform(*object_size_ranges[obj_type])\n",
    "                    configs.append(create_config(obj_type, color_maps[color2], size, position_range))\n",
    "                    objects_info[color2].append({\"type\": obj_type, \"size\": np.round(size, 4)})\n",
    "\n",
    "                configs_collate = collate_infos(configs)\n",
    "\n",
    "                env.register_configures(configs_collate)\n",
    "                \n",
    "                _ = env.reset(options={\"reconfigure\": True})\n",
    "\n",
    "                env.initialize_objects(background=background)\n",
    "                obs, _, _, _, _ = env.step(np.zeros(len(env.action_space.sample())))\n",
    "\n",
    "                save_dir_final = f\"{final_dir}/scene_{count}.png\"\n",
    "                views = [f\"front{background}\", f\"side{background}\", f\"top{background}\"]\n",
    "                collect_and_save(env, save_dir_final, steps=1, mode=views)\n",
    "                poses_final = env.get_important_obj_poses()\n",
    "                sources = [f\"{save_dir_final}_{view}\" for view in views]\n",
    "                \n",
    "                outputs.append({\n",
    "                    \"source\": sources,\n",
    "                    \"color1\": color1,\n",
    "                    \"color2\": color2,\n",
    "                    \"num_objects1\": num_objects1,\n",
    "                    \"num_objects2\": num_objects2,\n",
    "                    \"background\": background,\n",
    "                    \"round\": r,\n",
    "                    \"objects\": objects_info,\n",
    "                    #\"poses_final\": [np.round(item, 4).tolist() for item in poses_final],\n",
    "                })\n",
    "\n",
    "    write_out(f\"{data_dir}/index.jsonl\", outputs)\n",
    "\n",
    "del env"
   ]
  },
  {
   "cell_type": "code",
   "execution_count": 8,
   "metadata": {},
   "outputs": [
    {
     "data": {
      "text/plain": [
       "80"
      ]
     },
     "execution_count": 8,
     "metadata": {},
     "output_type": "execute_result"
    }
   ],
   "source": [
    "count"
   ]
  },
  {
   "cell_type": "code",
   "execution_count": null,
   "metadata": {},
   "outputs": [],
   "source": []
  }
 ],
 "metadata": {
  "kernelspec": {
   "display_name": "base",
   "language": "python",
   "name": "python3"
  },
  "language_info": {
   "codemirror_mode": {
    "name": "ipython",
    "version": 3
   },
   "file_extension": ".py",
   "mimetype": "text/x-python",
   "name": "python",
   "nbconvert_exporter": "python",
   "pygments_lexer": "ipython3",
   "version": "3.8.16"
  }
 },
 "nbformat": 4,
 "nbformat_minor": 2
}
