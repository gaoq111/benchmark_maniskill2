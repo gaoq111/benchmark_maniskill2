{
 "cells": [
  {
   "cell_type": "code",
   "execution_count": 1,
   "metadata": {
    "metadata": {}
   },
   "outputs": [],
   "source": [
    "%load_ext autoreload\n",
    "%autoreload 2\n",
    "import matplotlib.pyplot as plt\n",
    "import numpy as np\n",
    "import gymnasium as gym\n",
    "import sys\n",
    "sys.path.append('..')\n",
    "from PIL import Image\n",
    "from tqdm import trange\n",
    "import numpy as np\n",
    "import matplotlib.pyplot as plt\n",
    "import os\n",
    "from plot_utils import *\n",
    "from utils import *\n",
    "from agent_env_utils import *\n",
    "from config import color_maps, background_quadrants, background_specs\n",
    "import warnings\n",
    "from scene_helpers import get_position_range, create_config, create_directories, finalize_quadrant\n",
    "\n"
   ]
  },
  {
   "cell_type": "code",
   "execution_count": 5,
   "metadata": {
    "metadata": {}
   },
   "outputs": [
    {
     "name": "stderr",
     "output_type": "stream",
     "text": [
      "[2024-10-03 01:48:44.041] [svulkan2] [warning] A second renderer will share the same internal context with the first one. Arguments passed to constructor will be ignored.\n",
      "100%|██████████| 1/1 [00:31<00:00, 31.10s/it]\n"
     ]
    },
    {
     "data": {
      "text/plain": [
       "35"
      ]
     },
     "execution_count": 5,
     "metadata": {},
     "output_type": "execute_result"
    }
   ],
   "source": [
    "# Define directories\n",
    "data_dir = \"../benchmark/quantity/discrete_counting\"\n",
    "final_dir = create_directories(data_dir, empty=True)\n",
    "\n",
    "# Initialize pair of colors\n",
    "color_keys = list(color_maps.keys())\n",
    "random.seed(42)\n",
    "random.shuffle(color_keys)\n",
    "\n",
    "# Define ranges and object parameters\n",
    "object_shapes = [\"sphere\", \"cube\"]\n",
    "object_size_ranges = {\n",
    "    \"sphere\": (0.02, 0.04),\n",
    "    \"cube\": (0.02, 0.04),\n",
    "}\n",
    "num_objects_range = (1,7)\n",
    "setting_num = 100\n",
    "\n",
    "count = 0\n",
    "\n",
    "with warnings.catch_warnings():\n",
    "    warnings.simplefilter(\"ignore\")\n",
    "    env = gym.make(\"CustomEnv-v0\", obs_mode=\"rgbd\")\n",
    "\n",
    "    outputs = []\n",
    "    for background in trange(4):\n",
    "        for color_idx in range(len(color_keys)):  # Adjust the range as needed\n",
    "            color = color_keys[color_idx]\n",
    "            for num_objects in range(num_objects_range[0], num_objects_range[1] + 1):  \n",
    "                # Generate random configurations for objects\n",
    "                for r in range(setting_num):\n",
    "                    count += 1\n",
    "                    configs = []\n",
    "                    object_types = []\n",
    "                    object_sizes = []\n",
    "                    for _ in range(num_objects):\n",
    "                        obj_type = random.choice(object_shapes)\n",
    "                        object_types.append(obj_type)\n",
    "                        \n",
    "                        position_range = background_specs[background] #get_position_range(background_quadrants, background, scale=1)\n",
    "                        \n",
    "                        \n",
    "                        size_range = object_size_ranges[obj_type]\n",
    "                        size = np.random.uniform(size_range[0], size_range[1])\n",
    "                        object_sizes.append(size)\n",
    "                        configs.append(create_config(obj_type, color_maps[color], size, position_range))\n",
    "                        \n",
    "\n",
    "                    configs_collate = collate_infos(configs)\n",
    "\n",
    "                    env.register_configures(configs_collate)\n",
    "                    \n",
    "                    _ = env.reset(options={\"reconfigure\": True})\n",
    "\n",
    "                    env.initialize_objects(background=background)\n",
    "                    \n",
    "                    obs, _, _, _, _ = env.step(np.zeros(len(env.action_space.sample())))\n",
    "                    \n",
    "                    save_dir_final = f\"{final_dir}/scene_{count}.png\"\n",
    "                    views = [f\"front{background}\", f\"side{background}\", f\"top{background}\"]\n",
    "                    collect_and_save(env, save_dir_final, steps=1, mode=views)\n",
    "                    poses_final = env.get_important_obj_poses()\n",
    "                    sources = [f\"{save_dir_final}_{view}\" for view in views]\n",
    "                    \n",
    "                    outputs.append({\n",
    "                        \"source\": sources,\n",
    "                        \"color\": color,\n",
    "                        \"num_objects\": num_objects,\n",
    "                        \"background\": background,\n",
    "                        \"round\": r,\n",
    "                        \"sizes\": [np.round(size, 4).tolist() for size in object_sizes],\n",
    "                        \"obj_names\": object_types,\n",
    "                        \n",
    "                        \"poses_final\": [np.round(item, 4).tolist() for item in poses_final],\n",
    "                    })\n",
    "\n",
    "    write_out(f\"{data_dir}/index.jsonl\", outputs)\n",
    "\n",
    "del env\n",
    "\n",
    "count"
   ]
  },
  {
   "cell_type": "code",
   "execution_count": 6,
   "metadata": {
    "metadata": {}
   },
   "outputs": [
    {
     "data": {
      "text/plain": [
       "0.021893383412180303"
      ]
     },
     "execution_count": 6,
     "metadata": {},
     "output_type": "execute_result"
    }
   ],
   "source": [
    "np.random.uniform(0.02, 0.05)"
   ]
  },
  {
   "cell_type": "code",
   "execution_count": null,
   "metadata": {},
   "outputs": [],
   "source": []
  }
 ],
 "metadata": {
  "kernelspec": {
   "display_name": "base",
   "language": "python",
   "name": "python3"
  },
  "language_info": {
   "codemirror_mode": {
    "name": "ipython",
    "version": 3
   },
   "file_extension": ".py",
   "mimetype": "text/x-python",
   "name": "python",
   "nbconvert_exporter": "python",
   "pygments_lexer": "ipython3",
   "version": "3.8.16"
  }
 },
 "nbformat": 4,
 "nbformat_minor": 2
}
