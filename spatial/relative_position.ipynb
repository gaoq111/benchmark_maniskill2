{
 "cells": [
  {
   "cell_type": "code",
   "execution_count": 1,
   "metadata": {},
   "outputs": [],
   "source": [
    "%load_ext autoreload\n",
    "%autoreload 2\n",
    "import matplotlib.pyplot as plt\n",
    "import numpy as np\n",
    "import gymnasium as gym\n",
    "import sys\n",
    "sys.path.append('..')\n",
    "from PIL import Image\n",
    "from tqdm import trange\n",
    "import gymnasium as gym\n",
    "import numpy as np\n",
    "from sapien.core import Pose\n",
    "import matplotlib.pyplot as plt\n",
    "import os\n",
    "import warnings\n",
    "import shutil\n",
    "import random\n",
    "from plot_utils import *\n",
    "\n",
    "from utils import *\n",
    "from agent_env_utils import *\n",
    "from config import color_maps, background_quadrants\n"
   ]
  },
  {
   "cell_type": "code",
   "execution_count": 18,
   "metadata": {},
   "outputs": [
    {
     "name": "stderr",
     "output_type": "stream",
     "text": [
      "[2024-08-29 15:12:40.120] [svulkan2] [warning] A second renderer will share the same internal context with the first one. Arguments passed to constructor will be ignored.\n"
     ]
    },
    {
     "name": "stdout",
     "output_type": "stream",
     "text": [
      "Available directions: dict_keys(['behind', 'front', 'left', 'right', 'top'])\n"
     ]
    },
    {
     "name": "stderr",
     "output_type": "stream",
     "text": [
      "100%|██████████| 4/4 [22:21<00:00, 335.26s/it]\n"
     ]
    }
   ],
   "source": [
    "def create_directories(data_dir, empty=False):\n",
    "    final_dir = f\"{data_dir}/final\"\n",
    "    os.makedirs(final_dir, exist_ok=True)\n",
    "    if empty:\n",
    "        shutil.rmtree(final_dir)\n",
    "        os.makedirs(final_dir, exist_ok=True)\n",
    "    return final_dir\n",
    "\n",
    "def create_config(obj_type, color, size_range, position_range, static=False):\n",
    "    return {    \n",
    "        'size': np.random.uniform(*size_range),\n",
    "        'color': color,\n",
    "        'obj_type': obj_type,\n",
    "        'ranges': position_range,\n",
    "        'static': static\n",
    "    }\n",
    "    \n",
    "def finalize_quadrant(quadrant, scale=1):\n",
    "    lim_x = quadrant[0]\n",
    "    lim_y = quadrant[1]\n",
    "    interval_x = [0, lim_x]\n",
    "    interval_y = [0, lim_y]\n",
    "    interval_x.sort()\n",
    "    interval_y.sort()\n",
    "    interval_x = np.array(interval_x)*scale\n",
    "    interval_y = np.array(interval_y)*scale\n",
    "    return interval_x, interval_y\n",
    "\n",
    "# Define directories\n",
    "data_dir = \"../benchmark/spatial/try4\"\n",
    "final_dir = create_directories(data_dir, empty=True)\n",
    "\n",
    "# Initialize pair of colors\n",
    "color_keys = color_maps.keys()\n",
    "color_pairs = list(itertools.permutations(color_keys, 2))\n",
    "random.seed(42)\n",
    "random.shuffle(color_pairs)\n",
    "\n",
    "# Define ranges and object parameters\n",
    "object_shapes = [\"sphere\", \"cube\"]\n",
    "object_size_ranges = {\n",
    "    \"sphere\": (0.05, 0.1),\n",
    "    \"cube\": (0.05, 0.08),\n",
    "    \"random_sphere\": (0.01, 0.05)\n",
    "}\n",
    "object_shapes = [\"sphere\", \"cube\"]\n",
    "object_position_range = [(-0.3, 0.3), (-0.3, 0.25)]\n",
    "num_random_balls = 5\n",
    "background = 0\n",
    "\n",
    "with warnings.catch_warnings():\n",
    "    warnings.simplefilter(\"ignore\")\n",
    "    env = gym.make(\"CustomEnv-v0\", obs_mode=\"rgbd\")\n",
    "    directions = list(env.direction_placement_map.keys())\n",
    "    \n",
    "\n",
    "    # Print available directions\n",
    "    print(f\"Available directions: {env.direction_placement_map.keys()}\")\n",
    "    outputs = []\n",
    "    for background in trange(4):\n",
    "        for quadrant in background_quadrants[background]:\n",
    "            #decide the boundary of each background\n",
    "            interval_x, interval_y = finalize_quadrant(quadrant, scale=0.6)\n",
    "            object_position_range = [interval_x, interval_y]\n",
    "            \n",
    "            for color_idx in range(10): #range(len(color_pairs)):\n",
    "                color_1, color_2 = color_pairs[color_idx]\n",
    "                for r in range(1):\n",
    "                    \n",
    "                    for obj1, obj2 in list(itertools.permutations(object_shapes, 2)):\n",
    "                        \n",
    "                        obj1_config = create_config(obj1, color_maps[color_1], object_size_ranges[obj1], object_position_range, static=True)\n",
    "                        obj2_config = create_config(obj2, color_maps[color_2], object_size_ranges[obj2], object_position_range, static=True)\n",
    "                        # sphere1_config = create_config(\"sphere\", color_maps[color_2], object_size_ranges[\"sphere\"], object_position_range, static=True)\n",
    "                        # random_ball_configs = [ create_config (\"sphere\", color_maps[\"purple\"], object_size_ranges[\"random_sphere\"], [(-0.5, 0.3), (-0.5, 0.4)])\n",
    "                        #                     for _ in range(num_random_balls)]\n",
    "\n",
    "                        #configs = [sphere1_config, cube2_config] + random_ball_configs\n",
    "                        configs = [obj1_config, obj2_config]\n",
    "                        configs_collate = collate_infos(configs)\n",
    "\n",
    "                        env.register_configures(configs_collate)\n",
    "                        \n",
    "                        _ = env.reset(options={\"reconfigure\": True})\n",
    "\n",
    "                        env.initialize_objects(background=background)\n",
    "                        obs, _, _, _, _ = env.step(np.zeros(len(env.action_space.sample())))\n",
    "\n",
    "                        initial_poses = env.get_important_obj_poses(mode=\"all\")\n",
    "\n",
    "                        for i, direction in enumerate(directions):\n",
    "                            if direction not in env.direction_placement_map:\n",
    "                                print(f\"Skipping invalid direction: {direction}\")\n",
    "                                continue\n",
    "\n",
    "                            env.set_poses(initial_poses)\n",
    "                            \n",
    "                            env.place_cubes_in_direction([(0, 1, direction)])\n",
    "\n",
    "                            obs, _, _, _, _ = env.step(np.zeros(len(env.action_space.sample())))\n",
    "                            poses_initial = env.get_important_obj_poses()\n",
    "\n",
    "                            save_dir_final = f\"{final_dir}/{r}_{color_1}_{direction}_{color_2}_bg{background}.png\"\n",
    "                            collect_and_save(env, save_dir_final, steps=1, mode=[f\"front{background}\", f\"side{background}\", f\"top{background}\"])\n",
    "                            poses_final = env.get_important_obj_poses()\n",
    "\n",
    "                            bad_case = any(map(lambda x: check_move(x[0], x[1]), zip(poses_initial, poses_final)))\n",
    "                            if bad_case:\n",
    "                                print(f\"Bad initialization on the {direction} direction, in {color_idx} iter\")\n",
    "                                print(f\"Obj1 pose initial {poses_initial[0]}\")\n",
    "                                print(f\"Obj2 pose initial {poses_initial[1]}\")\n",
    "\n",
    "                            outputs.append({\n",
    "                                \"source\": save_dir_final,\n",
    "                                \"moving_obj\": color_1,\n",
    "                                \"direction\": direction,\n",
    "                                \"ref_obj\": color_2,\n",
    "                                \"bad_case\": bad_case,\n",
    "                                \"round\": r,\n",
    "                                \"sizes\": configs_collate['size'],\n",
    "                                \"poses_final\": [np.round(item, 4).tolist() for item in poses_final],\n",
    "                            })\n",
    "\n",
    "    write_out(f\"{data_dir}/index.jsonl\", outputs)\n",
    "\n",
    "del env"
   ]
  },
  {
   "cell_type": "code",
   "execution_count": 13,
   "metadata": {},
   "outputs": [
    {
     "data": {
      "text/plain": [
       "[('sphere', 'cube'), ('cube', 'sphere')]"
      ]
     },
     "execution_count": 13,
     "metadata": {},
     "output_type": "execute_result"
    }
   ],
   "source": [
    "object_shapes = [\"sphere\", \"cube\"]\n",
    "\n",
    "list(itertools.permutations(object_shapes, 2))"
   ]
  },
  {
   "cell_type": "code",
   "execution_count": null,
   "metadata": {},
   "outputs": [],
   "source": []
  }
 ],
 "metadata": {
  "kernelspec": {
   "display_name": "base",
   "language": "python",
   "name": "python3"
  },
  "language_info": {
   "codemirror_mode": {
    "name": "ipython",
    "version": 3
   },
   "file_extension": ".py",
   "mimetype": "text/x-python",
   "name": "python",
   "nbconvert_exporter": "python",
   "pygments_lexer": "ipython3",
   "version": "3.8.16"
  }
 },
 "nbformat": 4,
 "nbformat_minor": 2
}
