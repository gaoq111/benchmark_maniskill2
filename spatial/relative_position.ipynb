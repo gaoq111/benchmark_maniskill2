{
 "cells": [
  {
   "cell_type": "code",
   "execution_count": 1,
   "metadata": {},
   "outputs": [],
   "source": [
    "%load_ext autoreload\n",
    "%autoreload 2\n",
    "import matplotlib.pyplot as plt\n",
    "import numpy as np\n",
    "import gymnasium as gym\n",
    "import sys\n",
    "sys.path.append('..')\n",
    "from PIL import Image\n",
    "from tqdm import trange\n",
    "import gymnasium as gym\n",
    "import numpy as np\n",
    "from sapien.core import Pose\n",
    "import matplotlib.pyplot as plt\n",
    "import os\n",
    "import warnings\n",
    "import shutil\n",
    "import random\n",
    "from plot_utils import *\n",
    "\n",
    "from utils import *\n",
    "from agent_env_utils import *\n",
    "from config import color_maps, background_quadrants\n"
   ]
  },
  {
   "cell_type": "code",
   "execution_count": 2,
   "metadata": {
    "metadata": {}
   },
   "outputs": [
    {
     "name": "stderr",
     "output_type": "stream",
     "text": [
      "[2024-10-02 23:14:49.896] [svulkan2] [error] GLFW error: X11: The DISPLAY environment variable is missing\n",
      "[2024-10-02 23:14:49.896] [svulkan2] [warning] Continue without GLFW.\n"
     ]
    },
    {
     "name": "stdout",
     "output_type": "stream",
     "text": [
      "Available directions: dict_keys(['behind', 'front', 'left', 'right', 'top'])\n"
     ]
    },
    {
     "name": "stderr",
     "output_type": "stream",
     "text": [
      "  0%|          | 0/4 [00:07<?, ?it/s]\n"
     ]
    },
    {
     "ename": "KeyboardInterrupt",
     "evalue": "",
     "output_type": "error",
     "traceback": [
      "\u001b[0;31m---------------------------------------------------------------------------\u001b[0m",
      "\u001b[0;31mAttributeError\u001b[0m                            Traceback (most recent call last)",
      "File \u001b[0;32m/opt/conda/lib/python3.8/site-packages/PIL/ImageFile.py:515\u001b[0m, in \u001b[0;36m_save\u001b[0;34m(im, fp, tile, bufsize)\u001b[0m\n\u001b[1;32m    514\u001b[0m \u001b[38;5;28;01mtry\u001b[39;00m:\n\u001b[0;32m--> 515\u001b[0m     fh \u001b[38;5;241m=\u001b[39m \u001b[43mfp\u001b[49m\u001b[38;5;241;43m.\u001b[39;49m\u001b[43mfileno\u001b[49m()\n\u001b[1;32m    516\u001b[0m     fp\u001b[38;5;241m.\u001b[39mflush()\n",
      "\u001b[0;31mAttributeError\u001b[0m: '_idat' object has no attribute 'fileno'",
      "\nDuring handling of the above exception, another exception occurred:\n",
      "\u001b[0;31mKeyboardInterrupt\u001b[0m                         Traceback (most recent call last)",
      "Cell \u001b[0;32mIn[2], line 118\u001b[0m\n\u001b[1;32m    116\u001b[0m save_dir_final \u001b[38;5;241m=\u001b[39m \u001b[38;5;124mf\u001b[39m\u001b[38;5;124m\"\u001b[39m\u001b[38;5;132;01m{\u001b[39;00mfinal_dir\u001b[38;5;132;01m}\u001b[39;00m\u001b[38;5;124m/scene_\u001b[39m\u001b[38;5;132;01m{\u001b[39;00mscene_index\u001b[38;5;132;01m}\u001b[39;00m\u001b[38;5;124m.png\u001b[39m\u001b[38;5;124m\"\u001b[39m\n\u001b[1;32m    117\u001b[0m views \u001b[38;5;241m=\u001b[39m [\u001b[38;5;124mf\u001b[39m\u001b[38;5;124m\"\u001b[39m\u001b[38;5;124mfront\u001b[39m\u001b[38;5;132;01m{\u001b[39;00mbackground\u001b[38;5;132;01m}\u001b[39;00m\u001b[38;5;124m\"\u001b[39m, \u001b[38;5;124mf\u001b[39m\u001b[38;5;124m\"\u001b[39m\u001b[38;5;124mside\u001b[39m\u001b[38;5;132;01m{\u001b[39;00mbackground\u001b[38;5;132;01m}\u001b[39;00m\u001b[38;5;124m\"\u001b[39m, \u001b[38;5;124mf\u001b[39m\u001b[38;5;124m\"\u001b[39m\u001b[38;5;124mtop\u001b[39m\u001b[38;5;132;01m{\u001b[39;00mbackground\u001b[38;5;132;01m}\u001b[39;00m\u001b[38;5;124m\"\u001b[39m]\n\u001b[0;32m--> 118\u001b[0m \u001b[43mcollect_and_save\u001b[49m\u001b[43m(\u001b[49m\u001b[43menv\u001b[49m\u001b[43m,\u001b[49m\u001b[43m \u001b[49m\u001b[43msave_dir_final\u001b[49m\u001b[43m,\u001b[49m\u001b[43m \u001b[49m\u001b[43msteps\u001b[49m\u001b[38;5;241;43m=\u001b[39;49m\u001b[38;5;241;43m1\u001b[39;49m\u001b[43m,\u001b[49m\u001b[43m \u001b[49m\u001b[43mmode\u001b[49m\u001b[38;5;241;43m=\u001b[39;49m\u001b[43mviews\u001b[49m\u001b[43m)\u001b[49m\n\u001b[1;32m    119\u001b[0m poses_final \u001b[38;5;241m=\u001b[39m env\u001b[38;5;241m.\u001b[39mget_important_obj_poses()\n\u001b[1;32m    121\u001b[0m bad_case \u001b[38;5;241m=\u001b[39m \u001b[38;5;28many\u001b[39m(\u001b[38;5;28mmap\u001b[39m(\u001b[38;5;28;01mlambda\u001b[39;00m x: check_move(x[\u001b[38;5;241m0\u001b[39m], x[\u001b[38;5;241m1\u001b[39m]), \u001b[38;5;28mzip\u001b[39m(poses_initial, poses_final)))\n",
      "File \u001b[0;32m~/maniskill2/spatial/../agent_env_utils.py:82\u001b[0m, in \u001b[0;36mcollect_and_save\u001b[0;34m(env, save_dir, steps, mode)\u001b[0m\n\u001b[1;32m     80\u001b[0m \u001b[38;5;28;01mfor\u001b[39;00m i \u001b[38;5;129;01min\u001b[39;00m \u001b[38;5;28mrange\u001b[39m(steps):\n\u001b[1;32m     81\u001b[0m     obs, _, _, _, _ \u001b[38;5;241m=\u001b[39m env\u001b[38;5;241m.\u001b[39mstep(np\u001b[38;5;241m.\u001b[39mzeros(\u001b[38;5;28mlen\u001b[39m(env\u001b[38;5;241m.\u001b[39maction_space\u001b[38;5;241m.\u001b[39msample())))\n\u001b[0;32m---> 82\u001b[0m \u001b[43msave_obs\u001b[49m\u001b[43m(\u001b[49m\u001b[43mobs\u001b[49m\u001b[43m,\u001b[49m\u001b[43m \u001b[49m\u001b[43msave_dir\u001b[49m\u001b[43m,\u001b[49m\u001b[43m \u001b[49m\u001b[43mmode\u001b[49m\u001b[38;5;241;43m=\u001b[39;49m\u001b[43mmode\u001b[49m\u001b[43m)\u001b[49m\n",
      "File \u001b[0;32m~/maniskill2/spatial/../agent_env_utils.py:74\u001b[0m, in \u001b[0;36msave_obs\u001b[0;34m(obs, save_dir, mode)\u001b[0m\n\u001b[1;32m     72\u001b[0m \u001b[38;5;28;01mtry\u001b[39;00m:\n\u001b[1;32m     73\u001b[0m     image_data \u001b[38;5;241m=\u001b[39m obs[\u001b[38;5;124m'\u001b[39m\u001b[38;5;124mimage\u001b[39m\u001b[38;5;124m'\u001b[39m][camera_key][\u001b[38;5;124m'\u001b[39m\u001b[38;5;124mrgb\u001b[39m\u001b[38;5;124m'\u001b[39m]\n\u001b[0;32m---> 74\u001b[0m     \u001b[43mImage\u001b[49m\u001b[38;5;241;43m.\u001b[39;49m\u001b[43mfromarray\u001b[49m\u001b[43m(\u001b[49m\u001b[43mimage_data\u001b[49m\u001b[38;5;241;43m.\u001b[39;49m\u001b[43mastype\u001b[49m\u001b[43m(\u001b[49m\u001b[43mnp\u001b[49m\u001b[38;5;241;43m.\u001b[39;49m\u001b[43muint8\u001b[49m\u001b[43m)\u001b[49m\u001b[43m)\u001b[49m\u001b[38;5;241;43m.\u001b[39;49m\u001b[43msave\u001b[49m\u001b[43m(\u001b[49m\u001b[43msave_dir\u001b[49m\u001b[38;5;241;43m.\u001b[39;49m\u001b[43msplit\u001b[49m\u001b[43m(\u001b[49m\u001b[38;5;124;43m\"\u001b[39;49m\u001b[38;5;124;43m.png\u001b[39;49m\u001b[38;5;124;43m\"\u001b[39;49m\u001b[43m)\u001b[49m\u001b[43m[\u001b[49m\u001b[38;5;241;43m0\u001b[39;49m\u001b[43m]\u001b[49m\u001b[43m \u001b[49m\u001b[38;5;241;43m+\u001b[39;49m\u001b[43m \u001b[49m\u001b[38;5;124;43mf\u001b[39;49m\u001b[38;5;124;43m\"\u001b[39;49m\u001b[38;5;124;43m_\u001b[39;49m\u001b[38;5;132;43;01m{\u001b[39;49;00m\u001b[43mcamera_key\u001b[49m\u001b[38;5;132;43;01m}\u001b[39;49;00m\u001b[38;5;124;43m.png\u001b[39;49m\u001b[38;5;124;43m\"\u001b[39;49m\u001b[43m)\u001b[49m\n\u001b[1;32m     75\u001b[0m \u001b[38;5;28;01mexcept\u001b[39;00m \u001b[38;5;167;01mKeyError\u001b[39;00m \u001b[38;5;28;01mas\u001b[39;00m e:\n\u001b[1;32m     76\u001b[0m     \u001b[38;5;28mprint\u001b[39m(\u001b[38;5;124mf\u001b[39m\u001b[38;5;124m\"\u001b[39m\u001b[38;5;124mKeyError: \u001b[39m\u001b[38;5;132;01m{\u001b[39;00me\u001b[38;5;132;01m}\u001b[39;00m\u001b[38;5;124m - Available keys: \u001b[39m\u001b[38;5;132;01m{\u001b[39;00mobs[\u001b[38;5;124m'\u001b[39m\u001b[38;5;124mimage\u001b[39m\u001b[38;5;124m'\u001b[39m]\u001b[38;5;241m.\u001b[39mkeys()\u001b[38;5;132;01m}\u001b[39;00m\u001b[38;5;124m\"\u001b[39m)\n",
      "File \u001b[0;32m/opt/conda/lib/python3.8/site-packages/PIL/Image.py:2432\u001b[0m, in \u001b[0;36mImage.save\u001b[0;34m(self, fp, format, **params)\u001b[0m\n\u001b[1;32m   2429\u001b[0m         fp \u001b[38;5;241m=\u001b[39m builtins\u001b[38;5;241m.\u001b[39mopen(filename, \u001b[38;5;124m\"\u001b[39m\u001b[38;5;124mw+b\u001b[39m\u001b[38;5;124m\"\u001b[39m)\n\u001b[1;32m   2431\u001b[0m \u001b[38;5;28;01mtry\u001b[39;00m:\n\u001b[0;32m-> 2432\u001b[0m     \u001b[43msave_handler\u001b[49m\u001b[43m(\u001b[49m\u001b[38;5;28;43mself\u001b[39;49m\u001b[43m,\u001b[49m\u001b[43m \u001b[49m\u001b[43mfp\u001b[49m\u001b[43m,\u001b[49m\u001b[43m \u001b[49m\u001b[43mfilename\u001b[49m\u001b[43m)\u001b[49m\n\u001b[1;32m   2433\u001b[0m \u001b[38;5;28;01mexcept\u001b[39;00m \u001b[38;5;167;01mException\u001b[39;00m:\n\u001b[1;32m   2434\u001b[0m     \u001b[38;5;28;01mif\u001b[39;00m open_fp:\n",
      "File \u001b[0;32m/opt/conda/lib/python3.8/site-packages/PIL/PngImagePlugin.py:1407\u001b[0m, in \u001b[0;36m_save\u001b[0;34m(im, fp, filename, chunk, save_all)\u001b[0m\n\u001b[1;32m   1405\u001b[0m     _write_multiple_frames(im, fp, chunk, rawmode, default_image, append_images)\n\u001b[1;32m   1406\u001b[0m \u001b[38;5;28;01melse\u001b[39;00m:\n\u001b[0;32m-> 1407\u001b[0m     \u001b[43mImageFile\u001b[49m\u001b[38;5;241;43m.\u001b[39;49m\u001b[43m_save\u001b[49m\u001b[43m(\u001b[49m\u001b[43mim\u001b[49m\u001b[43m,\u001b[49m\u001b[43m \u001b[49m\u001b[43m_idat\u001b[49m\u001b[43m(\u001b[49m\u001b[43mfp\u001b[49m\u001b[43m,\u001b[49m\u001b[43m \u001b[49m\u001b[43mchunk\u001b[49m\u001b[43m)\u001b[49m\u001b[43m,\u001b[49m\u001b[43m \u001b[49m\u001b[43m[\u001b[49m\u001b[43m(\u001b[49m\u001b[38;5;124;43m\"\u001b[39;49m\u001b[38;5;124;43mzip\u001b[39;49m\u001b[38;5;124;43m\"\u001b[39;49m\u001b[43m,\u001b[49m\u001b[43m \u001b[49m\u001b[43m(\u001b[49m\u001b[38;5;241;43m0\u001b[39;49m\u001b[43m,\u001b[49m\u001b[43m \u001b[49m\u001b[38;5;241;43m0\u001b[39;49m\u001b[43m)\u001b[49m\u001b[43m \u001b[49m\u001b[38;5;241;43m+\u001b[39;49m\u001b[43m \u001b[49m\u001b[43mim\u001b[49m\u001b[38;5;241;43m.\u001b[39;49m\u001b[43msize\u001b[49m\u001b[43m,\u001b[49m\u001b[43m \u001b[49m\u001b[38;5;241;43m0\u001b[39;49m\u001b[43m,\u001b[49m\u001b[43m \u001b[49m\u001b[43mrawmode\u001b[49m\u001b[43m)\u001b[49m\u001b[43m]\u001b[49m\u001b[43m)\u001b[49m\n\u001b[1;32m   1409\u001b[0m \u001b[38;5;28;01mif\u001b[39;00m info:\n\u001b[1;32m   1410\u001b[0m     \u001b[38;5;28;01mfor\u001b[39;00m info_chunk \u001b[38;5;129;01min\u001b[39;00m info\u001b[38;5;241m.\u001b[39mchunks:\n",
      "File \u001b[0;32m/opt/conda/lib/python3.8/site-packages/PIL/ImageFile.py:519\u001b[0m, in \u001b[0;36m_save\u001b[0;34m(im, fp, tile, bufsize)\u001b[0m\n\u001b[1;32m    517\u001b[0m     _encode_tile(im, fp, tile, bufsize, fh)\n\u001b[1;32m    518\u001b[0m \u001b[38;5;28;01mexcept\u001b[39;00m (\u001b[38;5;167;01mAttributeError\u001b[39;00m, io\u001b[38;5;241m.\u001b[39mUnsupportedOperation) \u001b[38;5;28;01mas\u001b[39;00m exc:\n\u001b[0;32m--> 519\u001b[0m     \u001b[43m_encode_tile\u001b[49m\u001b[43m(\u001b[49m\u001b[43mim\u001b[49m\u001b[43m,\u001b[49m\u001b[43m \u001b[49m\u001b[43mfp\u001b[49m\u001b[43m,\u001b[49m\u001b[43m \u001b[49m\u001b[43mtile\u001b[49m\u001b[43m,\u001b[49m\u001b[43m \u001b[49m\u001b[43mbufsize\u001b[49m\u001b[43m,\u001b[49m\u001b[43m \u001b[49m\u001b[38;5;28;43;01mNone\u001b[39;49;00m\u001b[43m,\u001b[49m\u001b[43m \u001b[49m\u001b[43mexc\u001b[49m\u001b[43m)\u001b[49m\n\u001b[1;32m    520\u001b[0m \u001b[38;5;28;01mif\u001b[39;00m \u001b[38;5;28mhasattr\u001b[39m(fp, \u001b[38;5;124m\"\u001b[39m\u001b[38;5;124mflush\u001b[39m\u001b[38;5;124m\"\u001b[39m):\n\u001b[1;32m    521\u001b[0m     fp\u001b[38;5;241m.\u001b[39mflush()\n",
      "File \u001b[0;32m/opt/conda/lib/python3.8/site-packages/PIL/ImageFile.py:538\u001b[0m, in \u001b[0;36m_encode_tile\u001b[0;34m(im, fp, tile, bufsize, fh, exc)\u001b[0m\n\u001b[1;32m    535\u001b[0m \u001b[38;5;28;01mif\u001b[39;00m exc:\n\u001b[1;32m    536\u001b[0m     \u001b[38;5;66;03m# compress to Python file-compatible object\u001b[39;00m\n\u001b[1;32m    537\u001b[0m     \u001b[38;5;28;01mwhile\u001b[39;00m \u001b[38;5;28;01mTrue\u001b[39;00m:\n\u001b[0;32m--> 538\u001b[0m         errcode, data \u001b[38;5;241m=\u001b[39m \u001b[43mencoder\u001b[49m\u001b[38;5;241;43m.\u001b[39;49m\u001b[43mencode\u001b[49m\u001b[43m(\u001b[49m\u001b[43mbufsize\u001b[49m\u001b[43m)\u001b[49m[\u001b[38;5;241m1\u001b[39m:]\n\u001b[1;32m    539\u001b[0m         fp\u001b[38;5;241m.\u001b[39mwrite(data)\n\u001b[1;32m    540\u001b[0m         \u001b[38;5;28;01mif\u001b[39;00m errcode:\n",
      "\u001b[0;31mKeyboardInterrupt\u001b[0m: "
     ]
    }
   ],
   "source": [
    "def create_directories(data_dir, empty=False):\n",
    "    final_dir = f\"{data_dir}/final\"\n",
    "    os.makedirs(final_dir, exist_ok=True)\n",
    "    if empty:\n",
    "        shutil.rmtree(final_dir)\n",
    "        os.makedirs(final_dir, exist_ok=True)\n",
    "    return final_dir\n",
    "\n",
    "def create_config(obj_type, color, size_range, position_range, static=False):\n",
    "    return {    \n",
    "        'size': np.random.uniform(*size_range),\n",
    "        'color': color,\n",
    "        'obj_type': obj_type,\n",
    "        'ranges': position_range,\n",
    "        'static': static\n",
    "    }\n",
    "    \n",
    "def finalize_quadrant(quadrant, scale=1):\n",
    "    lim_x = quadrant[0]\n",
    "    lim_y = quadrant[1]\n",
    "    interval_x = [0, lim_x]\n",
    "    interval_y = [0, lim_y]\n",
    "    interval_x.sort()\n",
    "    interval_y.sort()\n",
    "    interval_x = np.array(interval_x)*scale\n",
    "    interval_y = np.array(interval_y)*scale\n",
    "    return interval_x, interval_y\n",
    "\n",
    "# Define directories\n",
    "data_dir = \"../benchmark/spatial/relative_position\"\n",
    "final_dir = create_directories(data_dir, empty=True)\n",
    "\n",
    "# Initialize pair of colors\n",
    "color_keys = color_maps.keys()\n",
    "color_pairs = list(itertools.permutations(color_keys, 2))\n",
    "random.seed(42)\n",
    "random.shuffle(color_pairs)\n",
    "color_pairs = color_pairs[:10]\n",
    "\n",
    "# Define ranges and object parameters\n",
    "object_shapes = [\"sphere\", \"cube\"]\n",
    "object_size_ranges = {\n",
    "    \"sphere\": (0.05, 0.1),\n",
    "    \"cube\": (0.05, 0.08),\n",
    "    \"random_sphere\": (0.01, 0.05)\n",
    "}\n",
    "object_shapes = [\"sphere\", \"cube\"]\n",
    "object_position_range = [(-0.3, 0.3), (-0.3, 0.25)]\n",
    "num_random_balls = 5\n",
    "background = 3\n",
    "\n",
    "with warnings.catch_warnings():\n",
    "    warnings.simplefilter(\"ignore\")\n",
    "    env = gym.make(\"CustomEnv-v0\", obs_mode=\"rgbd\")\n",
    "    directions = list(env.direction_placement_map.keys())\n",
    "    \n",
    "\n",
    "    # Print available directions\n",
    "    print(f\"Available directions: {env.direction_placement_map.keys()}\")\n",
    "    outputs = []\n",
    "    scene_index = 0\n",
    "    for background in trange(4):\n",
    "        for quadrant_idx, quadrant in enumerate(background_quadrants[background]):\n",
    "            #decide the boundary of each background\n",
    "            interval_x, interval_y = finalize_quadrant(quadrant, scale=0.6)\n",
    "            object_position_range = [interval_x, interval_y]\n",
    "            \n",
    "            for color_idx in range(len(color_pairs)):\n",
    "                color_1, color_2 = color_pairs[color_idx]\n",
    "\n",
    "                for obj1, obj2 in list(itertools.permutations(object_shapes, 2)):\n",
    "                    \n",
    "                    obj1_config = create_config(obj1, color_maps[color_1], object_size_ranges[obj1], object_position_range, static=True)\n",
    "                    obj2_config = create_config(obj2, color_maps[color_2], object_size_ranges[obj2], object_position_range, static=True)\n",
    "                    # sphere1_config = create_config(\"sphere\", color_maps[color_2], object_size_ranges[\"sphere\"], object_position_range, static=True)\n",
    "                    # random_ball_configs = [ create_config (\"sphere\", color_maps[\"purple\"], object_size_ranges[\"random_sphere\"], [(-0.5, 0.3), (-0.5, 0.4)])\n",
    "                    #                     for _ in range(num_random_balls)]\n",
    "\n",
    "                    #configs = [sphere1_config, cube2_config] + random_ball_configs\n",
    "                    configs = [obj1_config, obj2_config]\n",
    "                    configs_collate = collate_infos(configs)\n",
    "\n",
    "                    env.register_configures(configs_collate)\n",
    "                    \n",
    "                    _ = env.reset(options={\"reconfigure\": True})\n",
    "\n",
    "                    env.initialize_objects(background=background)\n",
    "                    obs, _, _, _, _ = env.step(np.zeros(len(env.action_space.sample())))\n",
    "\n",
    "                    initial_poses = env.get_important_obj_poses(mode=\"all\")\n",
    "\n",
    "                    for i, direction in enumerate(directions):\n",
    "                        if direction not in env.direction_placement_map:\n",
    "                            print(f\"Skipping invalid direction: {direction}\")\n",
    "                            continue\n",
    "\n",
    "                        env.set_poses(initial_poses)\n",
    "                        if (background==2 and direction==\"right\"):\n",
    "                            reverseDirection = \"left\"\n",
    "                            env.place_cubes_in_direction([(0, 1, reverseDirection)])\n",
    "                        elif (background==2 and direction==\"left\"):\n",
    "                            reverseDirection = \"right\"\n",
    "                            env.place_cubes_in_direction([(0, 1, reverseDirection)])\n",
    "                        elif (background==2 and direction==\"front\"):\n",
    "                            reverseDirection = \"behind\"\n",
    "                            env.place_cubes_in_direction([(0, 1, reverseDirection)])\n",
    "                        elif (background==2 and direction==\"behind\"):\n",
    "                            reverseDirection = \"front\"\n",
    "                            env.place_cubes_in_direction([(0, 1, reverseDirection)])\n",
    "                        else:\n",
    "                            env.place_cubes_in_direction([(0, 1, direction)])\n",
    "                        # env.place_cubes_in_direction([(0, 1, direction)])\n",
    "                        obs, _, _, _, _ = env.step(np.zeros(len(env.action_space.sample())))\n",
    "                        poses_initial = env.get_important_obj_poses()\n",
    "\n",
    "                        save_dir_final = f\"{final_dir}/scene_{scene_index}.png\"\n",
    "                        views = [f\"front{background}\", f\"side{background}\", f\"top{background}\"]\n",
    "                        collect_and_save(env, save_dir_final, steps=1, mode=views)\n",
    "                        poses_final = env.get_important_obj_poses()\n",
    "\n",
    "                        bad_case = any(map(lambda x: check_move(x[0], x[1]), zip(poses_initial, poses_final)))\n",
    "                        if bad_case:\n",
    "                            print(f\"Bad initialization on the {direction} direction, in {color_idx} iter\")\n",
    "                            print(f\"Obj1 pose initial {poses_initial[0]}\")\n",
    "                            print(f\"Obj2 pose initial {poses_initial[1]}\")\n",
    "                        save_dir_source = save_dir_final.replace(\"../\", \"\")\n",
    "                        source_paths = [save_dir_source.replace(\".png\", f\"_{view}.png\") for view in views]\n",
    "\n",
    "                        outputs.append({\n",
    "                            \"source\": source_paths,\n",
    "                            \"direction\": direction,\n",
    "                            \"bad_case\": bad_case,\n",
    "                            \"sizes\": configs_collate['size'],\n",
    "                            \"color_pair\": color_pairs[color_idx],\n",
    "                            \"objects\": [obj1, obj2],\n",
    "                            \"quadrant\": quadrant_idx,\n",
    "                            \"background\": background,\n",
    "                            \"scene_index\": scene_index,\n",
    "                        })\n",
    "                        scene_index += 1\n",
    "\n",
    "    write_out(f\"{data_dir}/index.jsonl\", outputs)                                                                                                                                      \n",
    "\n",
    "del env"
   ]
  },
  {
   "cell_type": "code",
   "execution_count": 6,
   "metadata": {},
   "outputs": [
    {
     "name": "stderr",
     "output_type": "stream",
     "text": [
      "\u001b[33;1m2024-09-04 21:17:43,377 - mani_skill2 - WARNING - Override registered env CustomEnv-v0\u001b[0m\n"
     ]
    },
    {
     "data": {
      "text/plain": [
       "72"
      ]
     },
     "execution_count": 6,
     "metadata": {},
     "output_type": "execute_result"
    }
   ],
   "source": [
    "len(color_pairs)"
   ]
  },
  {
   "cell_type": "code",
   "execution_count": 13,
   "metadata": {},
   "outputs": [
    {
     "data": {
      "text/plain": [
       "[('sphere', 'cube'), ('cube', 'sphere')]"
      ]
     },
     "execution_count": 13,
     "metadata": {},
     "output_type": "execute_result"
    }
   ],
   "source": [
    "object_shapes = [\"sphere\", \"cube\"]\n",
    "\n",
    "list(itertools.permutations(object_shapes, 2))"
   ]
  }
 ],
 "metadata": {
  "kernelspec": {
   "display_name": "base",
   "language": "python",
   "name": "python3"
  },
  "language_info": {
   "codemirror_mode": {
    "name": "ipython",
    "version": 3
   },
   "file_extension": ".py",
   "mimetype": "text/x-python",
   "name": "python",
   "nbconvert_exporter": "python",
   "pygments_lexer": "ipython3",
   "version": "3.8.16"
  }
 },
 "nbformat": 4,
 "nbformat_minor": 2
}
