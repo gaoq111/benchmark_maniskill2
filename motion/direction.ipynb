{
 "cells": [
  {
   "cell_type": "code",
   "execution_count": 1,
   "metadata": {},
   "outputs": [],
   "source": [
    "%load_ext autoreload\n",
    "%autoreload 2\n",
    "import numpy as np\n",
    "import sys\n",
    "sys.path.append('..')\n",
    "from PIL import Image\n",
    "from tqdm import trange\n",
    "import gymnasium as gym\n",
    "import numpy as np\n",
    "from sapien.core import Pose\n",
    "import matplotlib.pyplot as plt\n",
    "import os\n",
    "import warnings\n",
    "import shutil\n",
    "import random\n",
    "from plot_utils import *\n",
    "from itertools import product, combinations, permutations\n",
    "\n",
    "from utils import *\n",
    "from agent_env_utils import *\n",
    "from config import color_maps, background_quadrants\n",
    "from scene_helpers import get_position_range, create_config, create_directories, finalize_quadrant\n"
   ]
  },
  {
   "cell_type": "code",
   "execution_count": 6,
   "metadata": {},
   "outputs": [
    {
     "name": "stderr",
     "output_type": "stream",
     "text": [
      "[2024-09-04 18:56:07.758] [svulkan2] [warning] A second renderer will share the same internal context with the first one. Arguments passed to constructor will be ignored.\n"
     ]
    },
    {
     "name": "stdout",
     "output_type": "stream",
     "text": [
      "4\n"
     ]
    },
    {
     "name": "stderr",
     "output_type": "stream",
     "text": [
      "OpenCV: FFMPEG: tag 0x5634504d/'MP4V' is not supported with codec id 12 and format 'mp4 / MP4 (MPEG-4 Part 14)'\n",
      "OpenCV: FFMPEG: fallback to use tag 0x7634706d/'mp4v'\n"
     ]
    },
    {
     "name": "stdout",
     "output_type": "stream",
     "text": [
      "5\n"
     ]
    },
    {
     "name": "stderr",
     "output_type": "stream",
     "text": [
      "OpenCV: FFMPEG: tag 0x5634504d/'MP4V' is not supported with codec id 12 and format 'mp4 / MP4 (MPEG-4 Part 14)'\n",
      "OpenCV: FFMPEG: fallback to use tag 0x7634706d/'mp4v'\n"
     ]
    },
    {
     "name": "stdout",
     "output_type": "stream",
     "text": [
      "6\n"
     ]
    },
    {
     "name": "stderr",
     "output_type": "stream",
     "text": [
      "OpenCV: FFMPEG: tag 0x5634504d/'MP4V' is not supported with codec id 12 and format 'mp4 / MP4 (MPEG-4 Part 14)'\n",
      "OpenCV: FFMPEG: fallback to use tag 0x7634706d/'mp4v'\n"
     ]
    },
    {
     "name": "stdout",
     "output_type": "stream",
     "text": [
      "6\n"
     ]
    },
    {
     "name": "stderr",
     "output_type": "stream",
     "text": [
      "OpenCV: FFMPEG: tag 0x5634504d/'MP4V' is not supported with codec id 12 and format 'mp4 / MP4 (MPEG-4 Part 14)'\n",
      "OpenCV: FFMPEG: fallback to use tag 0x7634706d/'mp4v'\n"
     ]
    },
    {
     "name": "stdout",
     "output_type": "stream",
     "text": [
      "6\n"
     ]
    },
    {
     "name": "stderr",
     "output_type": "stream",
     "text": [
      "OpenCV: FFMPEG: tag 0x5634504d/'MP4V' is not supported with codec id 12 and format 'mp4 / MP4 (MPEG-4 Part 14)'\n",
      "OpenCV: FFMPEG: fallback to use tag 0x7634706d/'mp4v'\n"
     ]
    },
    {
     "name": "stdout",
     "output_type": "stream",
     "text": [
      "6\n"
     ]
    },
    {
     "name": "stderr",
     "output_type": "stream",
     "text": [
      "OpenCV: FFMPEG: tag 0x5634504d/'MP4V' is not supported with codec id 12 and format 'mp4 / MP4 (MPEG-4 Part 14)'\n",
      "OpenCV: FFMPEG: fallback to use tag 0x7634706d/'mp4v'\n"
     ]
    },
    {
     "name": "stdout",
     "output_type": "stream",
     "text": [
      "6\n"
     ]
    },
    {
     "name": "stderr",
     "output_type": "stream",
     "text": [
      "OpenCV: FFMPEG: tag 0x5634504d/'MP4V' is not supported with codec id 12 and format 'mp4 / MP4 (MPEG-4 Part 14)'\n",
      "OpenCV: FFMPEG: fallback to use tag 0x7634706d/'mp4v'\n"
     ]
    },
    {
     "name": "stdout",
     "output_type": "stream",
     "text": [
      "4\n"
     ]
    },
    {
     "name": "stderr",
     "output_type": "stream",
     "text": [
      "OpenCV: FFMPEG: tag 0x5634504d/'MP4V' is not supported with codec id 12 and format 'mp4 / MP4 (MPEG-4 Part 14)'\n",
      "OpenCV: FFMPEG: fallback to use tag 0x7634706d/'mp4v'\n"
     ]
    },
    {
     "name": "stdout",
     "output_type": "stream",
     "text": [
      "5\n"
     ]
    },
    {
     "name": "stderr",
     "output_type": "stream",
     "text": [
      "OpenCV: FFMPEG: tag 0x5634504d/'MP4V' is not supported with codec id 12 and format 'mp4 / MP4 (MPEG-4 Part 14)'\n",
      "OpenCV: FFMPEG: fallback to use tag 0x7634706d/'mp4v'\n"
     ]
    },
    {
     "name": "stdout",
     "output_type": "stream",
     "text": [
      "4\n"
     ]
    },
    {
     "name": "stderr",
     "output_type": "stream",
     "text": [
      "OpenCV: FFMPEG: tag 0x5634504d/'MP4V' is not supported with codec id 12 and format 'mp4 / MP4 (MPEG-4 Part 14)'\n",
      "OpenCV: FFMPEG: fallback to use tag 0x7634706d/'mp4v'\n"
     ]
    }
   ],
   "source": [
    "def get_ref_object_position(moving_obj_pos, direction, distance):\n",
    "    diagonal_move = distance / math.sqrt(2)\n",
    "    direction_vectors = {\n",
    "        \"left\": np.array([0, distance]),\n",
    "        \"right\": np.array([0, -distance]),\n",
    "        \"front\": np.array([-distance, 0]), \n",
    "        \"behind\": np.array([distance, 0]),\n",
    "        \"left_front\": np.array([-diagonal_move, diagonal_move]),\n",
    "        \"left_behind\": np.array([diagonal_move, diagonal_move]),\n",
    "        \"right_front\": np.array([-diagonal_move, -diagonal_move]),\n",
    "        \"right_behind\": np.array([diagonal_move, -diagonal_move])\n",
    "    }\n",
    "    return moving_obj_pos[:2] + direction_vectors[direction]\n",
    "\n",
    "def generate_non_overlapping_positions(moving_obj_pos, ref_obj_pos, num_positions, env, direction, distance):\n",
    "    avoid_pos = [moving_obj_pos[:2], ref_obj_pos[:2]]\n",
    "    \n",
    "    # Generate path to avoid\n",
    "    step = 0.01\n",
    "    path = np.arange(0, 1 + step, step)\n",
    "    for t in path:\n",
    "        position = moving_obj_pos[:2] * (1 - t) + ref_obj_pos[:2] * t\n",
    "        avoid_pos.append(position.tolist())\n",
    "    \n",
    "    positions = []\n",
    "    for _ in range(num_positions):\n",
    "        pos = generate_non_overlapping_position(avoid_pos, min_dist=0.1)\n",
    "        positions.append(pos)\n",
    "        avoid_pos.append(pos)\n",
    "    \n",
    "    return positions\n",
    "\n",
    "def generate_scenes(env, final_dir, data_dir, early_stop=None):\n",
    "    outputs = []\n",
    "    scene_index = 0\n",
    "    color_pairs = list(itertools.permutations(color_keys, 7))\n",
    "    random.shuffle(color_pairs)\n",
    "    color_pairs = color_pairs[:7]\n",
    "    \n",
    "    for background in range(4):\n",
    "        for quadrant in background_quadrants[background]:\n",
    "            for objects in object_pairs:\n",
    "                for colors_pair in color_pairs:\n",
    "                    for size in potential_sizes:\n",
    "                        for direction in moving_directions:\n",
    "                            scene_index += 1\n",
    "                            if early_stop is not None and scene_index > early_stop:\n",
    "                                return outputs\n",
    "                            \n",
    "                            # Generate main objects (moving and reference)\n",
    "                            configs = []\n",
    "                                \n",
    "                            main_objects_meta = []\n",
    "                            for obj_index, obj_type in enumerate(objects):\n",
    "                                color = colors_pair[obj_index]\n",
    "                                random.seed(scene_index*1000+obj_index)\n",
    "                                position_range = get_position_range(background_quadrants, background, scale=0.6)\n",
    "                                if obj_type == 'custom':\n",
    "                                    obj_config = create_config(obj_type, color_maps[color], size*1.1/2, position_range, name=\"002_master_chef_can\")\n",
    "                                else:\n",
    "                                    obj_config = create_config(obj_type, color_maps[color], size, position_range, name=obj_type)\n",
    "                                configs.append(obj_config)\n",
    "                                main_objects_meta.append({\n",
    "                                    \"type\": obj_type,\n",
    "                                    \"color\": color,\n",
    "                                    \"size\": size if obj_type != 'custom' else size*1.1/2,\n",
    "                                    \"role\": \"moving\" if obj_index == 0 else \"reference\"\n",
    "                                })\n",
    "                                \n",
    "                            # Generate random background objects\n",
    "                            num_bg_objects = random.randint(2, 4)\n",
    "                            #bg_configs = []\n",
    "                            background_objects_meta = []\n",
    "                            for bg_idx in range(num_bg_objects):\n",
    "                                bg_obj_type = random.choice(objects)\n",
    "                                bg_color = colors_pair[len(objects) + bg_idx]\n",
    "                                bg_size = random.uniform(0.02, 0.04)\n",
    "                                position_range = get_position_range(background_quadrants, background, scale=0.6)\n",
    "                                if bg_obj_type == 'custom':\n",
    "                                    bg_config = create_config(bg_obj_type, color_maps[bg_color], bg_size*1.1/2, position_range, name=\"002_master_chef_can\")\n",
    "                                else:\n",
    "                                    bg_config = create_config(bg_obj_type, color_maps[bg_color], bg_size, position_range, name=bg_obj_type)\n",
    "                                configs.append(bg_config)\n",
    "                                background_objects_meta.append({\n",
    "                                    \"type\": bg_obj_type,\n",
    "                                    \"color\": bg_color,\n",
    "                                    \"size\": bg_size if bg_obj_type != 'custom' else bg_size*1.1/2,\n",
    "                                })\n",
    "\n",
    "                            configs_collate = collate_infos(configs)\n",
    "                            env.register_configures(configs_collate)\n",
    "                            _ = env.reset(options={\"reconfigure\": True})\n",
    "                            print(len(configs))\n",
    "\n",
    "                            initilization_poses, mov_pos, ref_pos = initialize_obj_nooverlap_path(direction, configs, direction_length, env)\n",
    "                            initilization_poses[0] = mov_pos\n",
    "                            initilization_poses[1] = ref_pos\n",
    "\n",
    "                            env.set_poses(initilization_poses)\n",
    "\n",
    "                            \n",
    "\n",
    "                            \n",
    "\n",
    "                            # configs_collate = collate_infos(configs)\n",
    "                            # env.register_configures(configs_collate)\n",
    "                            # _ = env.reset(options={\"reconfigure\": True})\n",
    "\n",
    "                            # initialization_poses = env.get_important_obj_poses(mode=\"all\")\n",
    "                            # env.set_poses(initialization_poses)\n",
    "\n",
    "                            direction_configs = [(0, 0, direction)]\n",
    "                            distances = [direction_length]\n",
    "                            frames = env.move_in_directions(direction_configs, distances, steps=None, camera_view=[\"top0\"])\n",
    "                            \n",
    "                            video_name = f\"scene_{scene_index}\"\n",
    "                            video_path = os.path.join(final_dir, f\"videos/{video_name}.mp4\")\n",
    "                            os.makedirs(os.path.dirname(video_path), exist_ok=True)\n",
    "                            generate_video(video_path, frames['top0'], fps=10, color_change=True)\n",
    "\n",
    "                            image_dir = os.path.join(final_dir, f\"images/scene_{scene_index}\")\n",
    "                            save_images_pararell(frames['top0'], image_dir)\n",
    "\n",
    "                            outputs.append({\n",
    "                                \"scene_index\": scene_index,\n",
    "                                \"source\": os.path.relpath(video_path, start=data_dir),\n",
    "                                \"moving_obj\": main_objects_meta[0],\n",
    "                                \"ref_obj\": main_objects_meta[1],\n",
    "                                \"background_objects\": background_objects_meta,\n",
    "                                \"direction\": direction,\n",
    "                                \"distance\": direction_length,\n",
    "                                \"background\": background,\n",
    "                                \"quadrant\": quadrant,\n",
    "                            })\n",
    "    \n",
    "    return outputs\n",
    "\n",
    "data_dir = \"../benchmark/motion/direction\"\n",
    "final_dir = create_directories(data_dir, empty=True)\n",
    "\n",
    "# Define parameters\n",
    "objects = [\"cube\", \"sphere\", \"custom\"]\n",
    "object_pairs = list(itertools.combinations(objects, 2))\n",
    "moving_directions = [\"front\", \"behind\", \"left\", \"right\", \"left_front\", \"left_behind\", \"right_front\", \"right_behind\"]\n",
    "color_keys = list(color_maps.keys())\n",
    "\n",
    "potential_sizes = [0.03, 0.035, 0.04]\n",
    "direction_length = 0.2\n",
    "\n",
    "with warnings.catch_warnings():\n",
    "    warnings.simplefilter(\"ignore\")\n",
    "    env = gym.make(\"CustomEnv-v0\", obs_mode=\"rgbd\")\n",
    "\n",
    "    # Set early_stop to None if you want to generate all scenes\n",
    "    early_stop = 10\n",
    "    outputs = generate_scenes(env, final_dir, data_dir, early_stop)\n",
    "\n",
    "    write_out(f\"{data_dir}/index.jsonl\", outputs)\n",
    "\n",
    "del env"
   ]
  },
  {
   "cell_type": "code",
   "execution_count": 6,
   "metadata": {},
   "outputs": [
    {
     "data": {
      "text/plain": [
       "[1, 2, 3]"
      ]
     },
     "execution_count": 6,
     "metadata": {},
     "output_type": "execute_result"
    }
   ],
   "source": [
    "[1,2] + [3]"
   ]
  },
  {
   "cell_type": "code",
   "execution_count": null,
   "metadata": {},
   "outputs": [],
   "source": []
  }
 ],
 "metadata": {
  "kernelspec": {
   "display_name": "base",
   "language": "python",
   "name": "python3"
  },
  "language_info": {
   "codemirror_mode": {
    "name": "ipython",
    "version": 3
   },
   "file_extension": ".py",
   "mimetype": "text/x-python",
   "name": "python",
   "nbconvert_exporter": "python",
   "pygments_lexer": "ipython3",
   "version": "3.8.16"
  }
 },
 "nbformat": 4,
 "nbformat_minor": 2
}
